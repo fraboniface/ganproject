{
 "cells": [
  {
   "cell_type": "code",
   "execution_count": 1,
   "metadata": {
    "collapsed": true
   },
   "outputs": [],
   "source": [
    "import matplotlib.pyplot as plt\n",
    "import numpy as np\n",
    "\n",
    "import torch\n",
    "from torch.autograd import Variable\n",
    "import torch.nn as nn\n",
    "import torch.nn.functional as F\n",
    "\n",
    "import torchvision\n",
    "import torchvision.transforms as transforms\n",
    "import torch.optim as optim\n",
    "\n",
    "from tqdm import tqdm"
   ]
  },
  {
   "cell_type": "code",
   "execution_count": 14,
   "metadata": {
    "collapsed": true
   },
   "outputs": [],
   "source": [
    "def get_distribution_sampler(mu, sigma):\n",
    "    return lambda n: torch.randn(n)*sigma + mu\n",
    "\n",
    "def get_noise_sampler():\n",
    "    return lambda n,m: torch.rand(n,m)"
   ]
  },
  {
   "cell_type": "code",
   "execution_count": 15,
   "metadata": {},
   "outputs": [
    {
     "data": {
      "image/png": "[encoded data removed]",
      "text/plain": [
       "<matplotlib.figure.Figure at 0x7ff7b3f0b470>"
      ]
     },
     "metadata": {},
     "output_type": "display_data"
    }
   ],
   "source": [
    "# plot histograms\n",
    "dsampler = get_distribution_sampler(3, 2)\n",
    "gsampler = get_noise_sampler()\n",
    "\n",
    "n = 1000\n",
    "data_samples = dsampler(n)\n",
    "noise_samples = gsampler(n,1)[:,0]\n",
    "\n",
    "bins = 50\n",
    "plt.hist(data_samples, alpha=0.4, color='r', bins=bins)\n",
    "plt.hist(noise_samples, alpha=0.4, color='b', bins=bins)\n",
    "plt.show()"
   ]
  },
  {
   "cell_type": "code",
   "execution_count": 16,
   "metadata": {},
   "outputs": [
    {
     "name": "stdout",
     "output_type": "stream",
     "text": [
      "Generator(\n",
      "  (fc1): Linear(in_features=20, out_features=100)\n",
      "  (fc2): Linear(in_features=100, out_features=100)\n",
      "  (fc3): Linear(in_features=100, out_features=1)\n",
      ")\n",
      "Discriminator(\n",
      "  (fc1): Linear(in_features=1, out_features=100)\n",
      "  (fc2): Linear(in_features=100, out_features=100)\n",
      "  (fc3): Linear(in_features=100, out_features=1)\n",
      ")\n"
     ]
    }
   ],
   "source": [
    "class Generator(nn.Module):\n",
    "    def __init__(self, input_size, hidden_size, output_size):\n",
    "        super(Generator, self).__init__()\n",
    "        self.fc1 = nn.Linear(input_size, hidden_size)\n",
    "        self.fc2 = nn.Linear(hidden_size, hidden_size)\n",
    "        self.fc3 = nn.Linear(hidden_size, output_size)\n",
    "        \n",
    "    def forward(self, x):\n",
    "        x = F.relu(self.fc1(x))\n",
    "        x = F.tanh(self.fc2(x))\n",
    "        return self.fc3(x)\n",
    "\n",
    "class Discriminator(nn.Module):\n",
    "    def __init__(self, input_size, hidden_size, output_size):\n",
    "        super(Discriminator, self).__init__()\n",
    "        self.fc1 = nn.Linear(input_size, hidden_size)\n",
    "        self.fc2 = nn.Linear(hidden_size, hidden_size)\n",
    "        self.fc3 = nn.Linear(hidden_size, output_size)\n",
    "        \n",
    "    def forward(self, x):\n",
    "        x = F.relu(self.fc1(x))\n",
    "        x = F.relu(self.fc2(x))\n",
    "        return F.sigmoid(self.fc3(x))\n",
    "\n",
    "z_size = 20\n",
    "G = Generator(z_size, 100, 1)\n",
    "D = Discriminator(1, 100, 1)\n",
    "\n",
    "print(G)\n",
    "print(D)"
   ]
  },
  {
   "cell_type": "code",
   "execution_count": 19,
   "metadata": {},
   "outputs": [
    {
     "name": "stdout",
     "output_type": "stream",
     "text": [
      "Variable containing:\n",
      "-0.1653\n",
      "-0.2313\n",
      "-0.1713\n",
      "-0.1676\n",
      "-0.1803\n",
      "-0.1260\n",
      "-0.2087\n",
      "-0.2016\n",
      "-0.1531\n",
      "-0.1826\n",
      "-0.1917\n",
      "-0.1721\n",
      "-0.2053\n",
      "-0.1929\n",
      "-0.2117\n",
      "-0.2143\n",
      "-0.1970\n",
      "-0.2365\n",
      "-0.1411\n",
      "-0.2261\n",
      "-0.1786\n",
      "-0.2301\n",
      "-0.2096\n",
      "-0.1930\n",
      "-0.1707\n",
      "-0.2170\n",
      "-0.2227\n",
      "-0.2154\n",
      "-0.1824\n",
      "-0.2035\n",
      "-0.2910\n",
      "-0.1691\n",
      "-0.2065\n",
      "-0.2063\n",
      "-0.1942\n",
      "-0.1499\n",
      "-0.2270\n",
      "-0.2711\n",
      "-0.1864\n",
      "-0.1696\n",
      "-0.1690\n",
      "-0.1847\n",
      "-0.1457\n",
      "-0.1856\n",
      "-0.2322\n",
      "-0.1939\n",
      "-0.1890\n",
      "-0.2108\n",
      "-0.1730\n",
      "-0.2467\n",
      "-0.2166\n",
      "-0.2186\n",
      "-0.2074\n",
      "-0.1503\n",
      "-0.1726\n",
      "-0.1646\n",
      "-0.1376\n",
      "-0.2055\n",
      "-0.1780\n",
      "-0.2005\n",
      "-0.1554\n",
      "-0.2260\n",
      "-0.1912\n",
      "-0.2520\n",
      "-0.1498\n",
      "-0.2201\n",
      "-0.1514\n",
      "-0.1461\n",
      "-0.1923\n",
      "-0.2179\n",
      "-0.1494\n",
      "-0.1863\n",
      "-0.1827\n",
      "-0.1667\n",
      "-0.2510\n",
      "-0.2303\n",
      "-0.2064\n",
      "-0.2374\n",
      "-0.2205\n",
      "-0.1932\n",
      "-0.1720\n",
      "-0.2492\n",
      "-0.1739\n",
      "-0.2120\n",
      "-0.2330\n",
      "-0.1803\n",
      "-0.1529\n",
      "-0.1874\n",
      "-0.2195\n",
      "-0.2214\n",
      "-0.2214\n",
      "-0.2001\n",
      "-0.2588\n",
      "-0.1874\n",
      "-0.1985\n",
      "-0.1862\n",
      "-0.2202\n",
      "-0.2387\n",
      "-0.2287\n",
      "-0.1794\n",
      "[torch.FloatTensor of size 100x1]\n",
      "\n",
      "Variable containing:\n",
      " 0.5245\n",
      " 0.5246\n",
      " 0.5245\n",
      " 0.5245\n",
      " 0.5246\n",
      " 0.5242\n",
      " 0.5246\n",
      " 0.5246\n",
      " 0.5245\n",
      " 0.5246\n",
      " 0.5246\n",
      " 0.5245\n",
      " 0.5246\n",
      " 0.5246\n",
      " 0.5246\n",
      " 0.5246\n",
      " 0.5246\n",
      " 0.5246\n",
      " 0.5244\n",
      " 0.5246\n",
      " 0.5246\n",
      " 0.5246\n",
      " 0.5246\n",
      " 0.5246\n",
      " 0.5245\n",
      " 0.5246\n",
      " 0.5246\n",
      " 0.5246\n",
      " 0.5246\n",
      " 0.5246\n",
      " 0.5249\n",
      " 0.5245\n",
      " 0.5246\n",
      " 0.5246\n",
      " 0.5246\n",
      " 0.5244\n",
      " 0.5246\n",
      " 0.5248\n",
      " 0.5246\n",
      " 0.5245\n",
      " 0.5245\n",
      " 0.5246\n",
      " 0.5244\n",
      " 0.5246\n",
      " 0.5246\n",
      " 0.5246\n",
      " 0.5246\n",
      " 0.5246\n",
      " 0.5246\n",
      " 0.5247\n",
      " 0.5246\n",
      " 0.5246\n",
      " 0.5246\n",
      " 0.5245\n",
      " 0.5246\n",
      " 0.5245\n",
      " 0.5243\n",
      " 0.5246\n",
      " 0.5246\n",
      " 0.5246\n",
      " 0.5245\n",
      " 0.5246\n",
      " 0.5246\n",
      " 0.5247\n",
      " 0.5244\n",
      " 0.5246\n",
      " 0.5245\n",
      " 0.5244\n",
      " 0.5246\n",
      " 0.5246\n",
      " 0.5244\n",
      " 0.5246\n",
      " 0.5246\n",
      " 0.5245\n",
      " 0.5247\n",
      " 0.5246\n",
      " 0.5246\n",
      " 0.5246\n",
      " 0.5246\n",
      " 0.5246\n",
      " 0.5245\n",
      " 0.5247\n",
      " 0.5246\n",
      " 0.5246\n",
      " 0.5246\n",
      " 0.5246\n",
      " 0.5245\n",
      " 0.5246\n",
      " 0.5246\n",
      " 0.5246\n",
      " 0.5246\n",
      " 0.5246\n",
      " 0.5247\n",
      " 0.5246\n",
      " 0.5246\n",
      " 0.5246\n",
      " 0.5246\n",
      " 0.5246\n",
      " 0.5246\n",
      " 0.5246\n",
      "[torch.FloatTensor of size 100x1]\n",
      "\n"
     ]
    }
   ],
   "source": [
    "batch_size = 100\n",
    "noise_samples = gsampler(batch_size, z_size)\n",
    "noise_samples_v = Variable(noise_samples)\n",
    "gen = G(noise_samples_v)\n",
    "print(gen)\n",
    "print(D(gen))"
   ]
  },
  {
   "cell_type": "code",
   "execution_count": null,
   "metadata": {
    "collapsed": true
   },
   "outputs": [],
   "source": [
    "nn.BCEWithLogitsLoss"
   ]
  },
  {
   "cell_type": "code",
   "execution_count": 33,
   "metadata": {},
   "outputs": [
    {
     "name": "stderr",
     "output_type": "stream",
     "text": [
      "100%|██████████| 10000/10000 [03:05<00:00, 53.80it/s]\n"
     ]
    }
   ],
   "source": [
    "G = Generator(z_size, 100, 1)\n",
    "D = Discriminator(1, 100, 1)\n",
    "\n",
    "lr = 1e-3\n",
    "batch_size = 100\n",
    "n_epochs = 10000\n",
    "\n",
    "d_optimiser = optim.SGD(D.parameters(), lr=lr)\n",
    "g_optimiser = optim.SGD(G.parameters(), lr=lr)\n",
    "\n",
    "l = []\n",
    "loss = nn.BCELoss()\n",
    "zeros = Variable(torch.zeros(batch_size,1))\n",
    "ones = Variable(torch.ones(batch_size,1))\n",
    "\n",
    "for epoch in tqdm(range(n_epochs)):\n",
    "  \n",
    "    # discriminator training\n",
    "    for i in range(5):\n",
    "        D.zero_grad()\n",
    "        real_data = Variable(dsampler(batch_size).view(-1,1))\n",
    "        d_real = D(real_data)\n",
    "        d_real_error = loss(d_real, ones)\n",
    "        d_real_error.backward()\n",
    "\n",
    "        z = Variable(gsampler(batch_size, z_size))\n",
    "        fake = G(z).detach()\n",
    "        d_fake = D(fake)\n",
    "        d_fake_error = loss(d_fake, zeros)\n",
    "        d_fake_error.backward()\n",
    "\n",
    "        d_optimiser.step()\n",
    "    \n",
    "    # generator training\n",
    "    G.zero_grad()\n",
    "    gen_data = G(z)\n",
    "    d_gen = D(gen_data)\n",
    "    g_error = loss(d_gen, ones)\n",
    "    g_error.backward()\n",
    "    g_optimiser.step()\n",
    "    \n",
    "    l.append(fake.data.numpy())\n",
    "    \n",
    "l = np.array(l)\n",
    "l = l.reshape(n_epochs,batch_size)"
   ]
  },
  {
   "cell_type": "code",
   "execution_count": 34,
   "metadata": {},
   "outputs": [
    {
     "data": {
      "text/plain": [
       "<matplotlib.collections.PathCollection at 0x7ff7b13ddd68>"
      ]
     },
     "execution_count": 34,
     "metadata": {},
     "output_type": "execute_result"
    },
    {
     "data": {
      "image/png": "[encoded data removed]",
      "text/plain": [
       "<matplotlib.figure.Figure at 0x7ff7b2fca160>"
      ]
     },
     "metadata": {},
     "output_type": "display_data"
    }
   ],
   "source": [
    "plt.scatter(np.arange(n_epochs), l.mean(axis=1))"
   ]
  },
  {
   "cell_type": "code",
   "execution_count": 35,
   "metadata": {},
   "outputs": [
    {
     "data": {
      "text/plain": [
       "<matplotlib.collections.PathCollection at 0x7ff7b1436320>"
      ]
     },
     "execution_count": 35,
     "metadata": {},
     "output_type": "execute_result"
    },
    {
     "data": {
      "image/png": "[encoded data removed]",
      "text/plain": [
       "<matplotlib.figure.Figure at 0x7ff7b12db940>"
      ]
     },
     "metadata": {},
     "output_type": "display_data"
    }
   ],
   "source": [
    "plt.scatter(np.arange(n_epochs), l.std(axis=1))"
   ]
  },
  {
   "cell_type": "code",
   "execution_count": 36,
   "metadata": {},
   "outputs": [
    {
     "data": {
      "image/png": "[encoded data removed]",
      "text/plain": [
       "<matplotlib.figure.Figure at 0x7ff7b1419dd8>"
      ]
     },
     "metadata": {},
     "output_type": "display_data"
    }
   ],
   "source": [
    "plt.hist(l[0], bins=20)\n",
    "plt.show()"
   ]
  },
  {
   "cell_type": "code",
   "execution_count": 37,
   "metadata": {},
   "outputs": [
    {
     "data": {
      "image/png": "[encoded data removed]",
      "text/plain": [
       "<matplotlib.figure.Figure at 0x7ff7b14ba0b8>"
      ]
     },
     "metadata": {},
     "output_type": "display_data"
    }
   ],
   "source": [
    "plt.hist(l[-1], bins=20, color='b', alpha=0.4)\n",
    "plt.hist(np.random.normal(3,2,100), bins=20, color='r', alpha=0.4)\n",
    "plt.show()"
   ]
  },
  {
   "cell_type": "code",
   "execution_count": null,
   "metadata": {
    "collapsed": true
   },
   "outputs": [],
   "source": []
  }
 ],
 "metadata": {
  "kernelspec": {
   "display_name": "Python [conda env:pytorch]",
   "language": "python",
   "name": "conda-env-pytorch-py"
  },
  "language_info": {
   "codemirror_mode": {
    "name": "ipython",
    "version": 3
   },
   "file_extension": ".py",
   "mimetype": "text/x-python",
   "name": "python",
   "nbconvert_exporter": "python",
   "pygments_lexer": "ipython3",
   "version": "3.6.4"
  }
 },
 "nbformat": 4,
 "nbformat_minor": 2
}
