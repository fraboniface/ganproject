{
 "cells": [
  {
   "cell_type": "code",
   "execution_count": 62,
   "metadata": {},
   "outputs": [],
   "source": [
    "import numpy as np\n",
    "import matplotlib.pyplot as plt\n",
    "%matplotlib inline\n",
    "plt.style.use('dark_background')\n",
    "from ipywidgets import interact, fixed\n",
    "import ipywidgets as widgets"
   ]
  },
  {
   "cell_type": "code",
   "execution_count": 47,
   "metadata": {},
   "outputs": [
    {
     "data": {
      "text/plain": [
       "array([ 1.8184785 , -1.38709422,  1.30200199, -0.1231201 ,  1.08013565,\n",
       "        1.0941377 ,  1.36770728, -0.52734298,  1.0331336 ,  0.95350938,\n",
       "        0.37062074, -0.90238327, -1.4301716 ,  0.57930296, -0.47296277,\n",
       "        2.16607715, -0.37218033, -0.46937553, -1.29670584,  1.53575009,\n",
       "       -0.34111209, -0.3712847 , -0.14957699,  0.24167067, -0.53740378,\n",
       "       -0.43095462,  1.42274094, -1.55084349, -0.60457309,  1.63796847,\n",
       "       -1.00579078,  1.49544147, -0.30037303, -0.01709306, -0.64257412,\n",
       "       -2.06299127,  0.44589067, -0.38773657, -1.22585673,  1.03081748,\n",
       "       -0.03229301, -1.17160861,  1.40450353,  1.84895598,  0.09372019,\n",
       "        0.52796317,  0.75474258,  0.51613736, -1.53686716, -1.59139807,\n",
       "        0.22277747,  0.24081589, -0.17962336, -1.85067665, -1.44892918,\n",
       "       -1.02122625,  0.36632908,  0.42871698,  0.84293359, -0.8772871 ,\n",
       "       -2.09926134,  0.09381771, -0.62125467,  1.11945287, -0.84980329,\n",
       "        0.15693738,  0.23027223,  0.18758675,  0.27193293,  0.69430358,\n",
       "       -0.11493183, -0.66849208, -0.47672674, -0.99496978, -0.99404154,\n",
       "        1.30965566, -0.44420424,  0.08277226,  0.9072072 , -0.52886589,\n",
       "        0.25506834, -1.89814391, -0.0855995 , -1.81774962,  0.35360689,\n",
       "       -0.43353559,  1.30623814, -0.38406211,  0.02693129, -0.20904337,\n",
       "       -1.01912762, -1.59412743, -0.32184062, -0.37145653,  0.69446496,\n",
       "        3.05521341, -0.71353334, -0.78768947,  1.2074898 ,  0.97909484])"
      ]
     },
     "execution_count": 47,
     "metadata": {},
     "output_type": "execute_result"
    }
   ],
   "source": [
    "z = np.random.randn(100)\n",
    "z"
   ]
  },
  {
   "cell_type": "code",
   "execution_count": 58,
   "metadata": {},
   "outputs": [
    {
     "data": {
      "image/png": "[encoded data removed]",
      "text/plain": [
       "<Figure size 432x288 with 2 Axes>"
      ]
     },
     "metadata": {},
     "output_type": "display_data"
    }
   ],
   "source": [
    "plt.imshow(z.reshape(10,10), cmap='seismic')\n",
    "plt.axis('off')\n",
    "plt.colorbar(ax)\n",
    "plt.show()"
   ]
  },
  {
   "cell_type": "code",
   "execution_count": 71,
   "metadata": {},
   "outputs": [],
   "source": [
    "def interact_z(dims, z=None, latent_size=100):\n",
    "    #if z is None:\n",
    "    #    z = sample_z(1, latent_size)\n",
    "    \n",
    "    amplitude = 5\n",
    "    \n",
    "    args = {'z':fixed(z)}\n",
    "    for d in dims:\n",
    "        args[str(d)] = widgets.FloatSlider(value=0, min=-amplitude, max=amplitude, step=0.1)\n",
    "        \n",
    "    def show_interact(**args):\n",
    "        for d, zd in args.items():\n",
    "            if d != 'z':\n",
    "                z[int(d)] = zd\n",
    "            \n",
    "        plt.imshow(z.reshape(10,10), cmap='seismic', vmin=-amplitude, vmax=amplitude)\n",
    "        plt.axis('off')\n",
    "        plt.colorbar()\n",
    "        plt.show()\n",
    "        \n",
    "    interact(show_interact, **args)"
   ]
  },
  {
   "cell_type": "code",
   "execution_count": 72,
   "metadata": {},
   "outputs": [
    {
     "data": {
      "application/vnd.jupyter.widget-view+json": {
       "model_id": "8ada269df5c24f5db41e937bfc8a754f",
       "version_major": 2,
       "version_minor": 0
      },
      "text/html": [
       "<p>Failed to display Jupyter Widget of type <code>interactive</code>.</p>\n",
       "<p>\n",
       "  If you're reading this message in the Jupyter Notebook or JupyterLab Notebook, it may mean\n",
       "  that the widgets JavaScript is still loading. If this message persists, it\n",
       "  likely means that the widgets JavaScript library is either not installed or\n",
       "  not enabled. See the <a href=\"https://ipywidgets.readthedocs.io/en/stable/user_install.html\">Jupyter\n",
       "  Widgets Documentation</a> for setup instructions.\n",
       "</p>\n",
       "<p>\n",
       "  If you're reading this message in another frontend (for example, a static\n",
       "  rendering on GitHub or <a href=\"https://nbviewer.jupyter.org/\">NBViewer</a>),\n",
       "  it may mean that your frontend doesn't currently support widgets.\n",
       "</p>\n"
      ],
      "text/plain": [
       "interactive(children=(FloatSlider(value=0.0, description='0', max=5.0, min=-5.0), FloatSlider(value=0.0, description='99', max=5.0, min=-5.0), FloatSlider(value=0.0, description='23', max=5.0, min=-5.0), Output()), _dom_classes=('widget-interact',))"
      ]
     },
     "metadata": {},
     "output_type": "display_data"
    }
   ],
   "source": [
    "interact_z([0,99,23], z)"
   ]
  },
  {
   "cell_type": "code",
   "execution_count": null,
   "metadata": {},
   "outputs": [],
   "source": []
  },
  {
   "cell_type": "code",
   "execution_count": null,
   "metadata": {},
   "outputs": [],
   "source": []
  },
  {
   "cell_type": "code",
   "execution_count": null,
   "metadata": {},
   "outputs": [],
   "source": []
  },
  {
   "cell_type": "code",
   "execution_count": null,
   "metadata": {},
   "outputs": [],
   "source": []
  },
  {
   "cell_type": "code",
   "execution_count": null,
   "metadata": {},
   "outputs": [],
   "source": []
  },
  {
   "cell_type": "code",
   "execution_count": null,
   "metadata": {},
   "outputs": [],
   "source": []
  },
  {
   "cell_type": "code",
   "execution_count": null,
   "metadata": {},
   "outputs": [],
   "source": []
  },
  {
   "cell_type": "code",
   "execution_count": null,
   "metadata": {},
   "outputs": [],
   "source": []
  }
 ],
 "metadata": {
  "kernelspec": {
   "display_name": "Python [conda env:pytorch]",
   "language": "python",
   "name": "conda-env-pytorch-py"
  },
  "language_info": {
   "codemirror_mode": {
    "name": "ipython",
    "version": 3
   },
   "file_extension": ".py",
   "mimetype": "text/x-python",
   "name": "python",
   "nbconvert_exporter": "python",
   "pygments_lexer": "ipython3",
   "version": "3.6.4"
  }
 },
 "nbformat": 4,
 "nbformat_minor": 2
}
